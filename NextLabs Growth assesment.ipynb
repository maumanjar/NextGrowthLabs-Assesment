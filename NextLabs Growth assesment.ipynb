{
 "cells": [
  {
   "cell_type": "markdown",
   "id": "7e45d421",
   "metadata": {},
   "source": [
    "# REGEX TO EXTRACT ORANGE COLOURED NUMBERS "
   ]
  },
  {
   "cell_type": "code",
   "execution_count": 1,
   "id": "2ad04940",
   "metadata": {},
   "outputs": [],
   "source": [
    "import re\n"
   ]
  },
  {
   "cell_type": "code",
   "execution_count": 2,
   "id": "bf6993f2",
   "metadata": {},
   "outputs": [],
   "source": [
    "str = '{\"orders\":[{\"id\":1},{\"id\":2},{\"id\":3},{\"id\":4},{\"id\":5},{\"id\":6},{\"id\":7},{\"id\":8},{\"id\":9},{\"id\":10},{\"id\":11},{\"id\":648},{\"id\":649},{\"id\":650},{\"id\":651},{\"id\":652},{\"id\":653}],\"errors\":[{\"code\":3,\"message\":\"[PHP Warning #2]count(): Parameter must be an array or an object that implements Countable(153)\"}]}'\n"
   ]
  },
  {
   "cell_type": "code",
   "execution_count": 3,
   "id": "948421b4",
   "metadata": {},
   "outputs": [],
   "source": [
    "x = re.findall(':[0-9]+', str)"
   ]
  },
  {
   "cell_type": "code",
   "execution_count": 4,
   "id": "1a23754d",
   "metadata": {},
   "outputs": [],
   "source": [
    "AI=[]"
   ]
  },
  {
   "cell_type": "code",
   "execution_count": 5,
   "id": "8af2837b",
   "metadata": {},
   "outputs": [
    {
     "name": "stdout",
     "output_type": "stream",
     "text": [
      "['1']\n",
      "['1', '2']\n",
      "['1', '2', '3']\n",
      "['1', '2', '3', '4']\n",
      "['1', '2', '3', '4', '5']\n",
      "['1', '2', '3', '4', '5', '6']\n",
      "['1', '2', '3', '4', '5', '6', '7']\n",
      "['1', '2', '3', '4', '5', '6', '7', '8']\n",
      "['1', '2', '3', '4', '5', '6', '7', '8', '9']\n",
      "['1', '2', '3', '4', '5', '6', '7', '8', '9', '10']\n",
      "['1', '2', '3', '4', '5', '6', '7', '8', '9', '10', '11']\n",
      "['1', '2', '3', '4', '5', '6', '7', '8', '9', '10', '11', '648']\n",
      "['1', '2', '3', '4', '5', '6', '7', '8', '9', '10', '11', '648', '649']\n",
      "['1', '2', '3', '4', '5', '6', '7', '8', '9', '10', '11', '648', '649', '650']\n",
      "['1', '2', '3', '4', '5', '6', '7', '8', '9', '10', '11', '648', '649', '650', '651']\n",
      "['1', '2', '3', '4', '5', '6', '7', '8', '9', '10', '11', '648', '649', '650', '651', '652']\n",
      "['1', '2', '3', '4', '5', '6', '7', '8', '9', '10', '11', '648', '649', '650', '651', '652', '653']\n",
      "['1', '2', '3', '4', '5', '6', '7', '8', '9', '10', '11', '648', '649', '650', '651', '652', '653', '3']\n"
     ]
    }
   ],
   "source": [
    "for s in x:\n",
    "    AI.append(s.strip(':'))\n",
    "    print(AI)"
   ]
  },
  {
   "cell_type": "code",
   "execution_count": null,
   "id": "61c03e13",
   "metadata": {},
   "outputs": [],
   "source": []
  },
  {
   "cell_type": "code",
   "execution_count": null,
   "id": "b1ec89e9",
   "metadata": {},
   "outputs": [],
   "source": []
  }
 ],
 "metadata": {
  "kernelspec": {
   "display_name": "Python 3 (ipykernel)",
   "language": "python",
   "name": "python3"
  },
  "language_info": {
   "codemirror_mode": {
    "name": "ipython",
    "version": 3
   },
   "file_extension": ".py",
   "mimetype": "text/x-python",
   "name": "python",
   "nbconvert_exporter": "python",
   "pygments_lexer": "ipython3",
   "version": "3.9.7"
  }
 },
 "nbformat": 4,
 "nbformat_minor": 5
}
